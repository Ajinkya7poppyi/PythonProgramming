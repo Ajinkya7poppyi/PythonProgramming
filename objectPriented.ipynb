{
 "cells": [
  {
   "cell_type": "markdown",
   "metadata": {},
   "source": [
    "#### Object Oriented Programming "
   ]
  },
  {
   "cell_type": "code",
   "execution_count": 10,
   "metadata": {},
   "outputs": [
    {
     "name": "stdout",
     "output_type": "stream",
     "text": [
      "Name: Mack \n",
      "Age: 80 \n",
      "Gender : Male\n",
      "0.315625\n"
     ]
    }
   ],
   "source": [
    "# define class for family hierarchy levelwise\n",
    "\n",
    "class topFamily():\n",
    "    def __init__(self, name, age, gender):\n",
    "        self.name = name\n",
    "        self.age = age\n",
    "        self.gender = gender\n",
    "        self.score = 0\n",
    "\n",
    "    def __str__(self):\n",
    "        return 'Name: {} \\nAge: {} \\nGender : {}'.format(self.name, self.age, self.gender)\n",
    "\n",
    "    def calculate_score(self, scores):\n",
    "        for i in scores:\n",
    "          self.score += i/self.age\n",
    "        self.score = self.score/ len(scores)\n",
    "        return self.score\n",
    "\n",
    "\n",
    "grandFather = topFamily('Mack', 80, 'Male')\n",
    "print(grandFather)\n",
    "print(grandFather.calculate_score([1, 20, 30, 50]))"
   ]
  },
  {
   "cell_type": "code",
   "execution_count": 11,
   "metadata": {},
   "outputs": [
    {
     "name": "stdout",
     "output_type": "stream",
     "text": [
      "Name: Alex \n",
      "Age: 55 \n",
      "Gender : Male\n",
      "1.0454545454545454\n",
      "2.5545454545454547\n"
     ]
    }
   ],
   "source": [
    "class midFamily(topFamily):\n",
    "    def __init__(self, name, age, gender):\n",
    "        self.energy = 0\n",
    "        super().__init__(name, age, gender)\n",
    "\n",
    "    def get_energy(self, scores):\n",
    "        for i in scores:\n",
    "          self.energy += i/(2*self.age)\n",
    "        return self.energy\n",
    "\n",
    "father = midFamily('Alex', 55, 'Male')\n",
    "print(father)\n",
    "print(father.calculate_score([20, 60, 100, 50]))\n",
    "print(father.get_energy([1, 50, 60, 80, 90]))"
   ]
  },
  {
   "cell_type": "code",
   "execution_count": 12,
   "metadata": {},
   "outputs": [
    {
     "name": "stdout",
     "output_type": "stream",
     "text": [
      "Name: Ana \n",
      "Age: 10 \n",
      "Gender : Female\n",
      "18.0\n",
      "10.5\n",
      "54.0\n"
     ]
    }
   ],
   "source": [
    "class baseFamily(midFamily):\n",
    "    def __init__(self, name, age, gender):\n",
    "        self.marks = 0\n",
    "        super().__init__(name, age, gender)\n",
    "\n",
    "    def get_marks(self, marks):\n",
    "        for i in marks:\n",
    "            self.marks += i\n",
    "        self.marks = self.marks/len(marks)\n",
    "        return self.marks\n",
    "\n",
    "childern = baseFamily('Ana', 10, 'Female')\n",
    "print(childern)\n",
    "print(childern.calculate_score([50, 80, 90, 500]))\n",
    "print(childern.get_energy([50, 60, 80, 20]))\n",
    "print(childern.get_marks([50, 90, 50, 60, 20]))"
   ]
  }
 ],
 "metadata": {
  "kernelspec": {
   "display_name": "Python 3",
   "language": "python",
   "name": "python3"
  },
  "language_info": {
   "codemirror_mode": {
    "name": "ipython",
    "version": 3
   },
   "file_extension": ".py",
   "mimetype": "text/x-python",
   "name": "python",
   "nbconvert_exporter": "python",
   "pygments_lexer": "ipython3",
   "version": "3.7.4"
  }
 },
 "nbformat": 4,
 "nbformat_minor": 4
}
