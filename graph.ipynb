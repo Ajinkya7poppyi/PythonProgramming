{
 "cells": [
  {
   "cell_type": "code",
   "execution_count": 1,
   "metadata": {},
   "outputs": [],
   "source": [
    "from collections import defaultdict\n",
    "import pprint"
   ]
  },
  {
   "cell_type": "code",
   "execution_count": 2,
   "metadata": {},
   "outputs": [],
   "source": [
    "class Graph:\n",
    "    def __init__(self):\n",
    "        self._graph = defaultdict(set)\n",
    "\n",
    "    def __repr__(self):\n",
    "        return '{}({})'.format(self.__class__.__name__, dict(self._graph))\n",
    "\n",
    "    def add_connection(self, connections):\n",
    "        for node1, node2 in connections:\n",
    "            self.add(node1, node2)\n",
    "\n",
    "    def add(self, node1, node2):\n",
    "        self._graph[node1].add(node2)\n",
    "\n",
    "    def remove(self, node):\n",
    "        del self._graph[node]\n",
    "        for head, connections in self._graph.items(): \n",
    "            if node in connections:\n",
    "                connections.remove(node)\n",
    "\n",
    "    def is_connected(self, node1, node2):\n",
    "        return node1 in self._graph and node2 in self._graph[node1]"
   ]
  },
  {
   "cell_type": "code",
   "execution_count": 3,
   "metadata": {},
   "outputs": [
    {
     "name": "stdout",
     "output_type": "stream",
     "text": [
      "Graph({1: {10, 2, 5}, 2: {10, 3}, 3: {10, 4}, 4: {5}})\n"
     ]
    }
   ],
   "source": [
    "connections = [(1, 10), (2, 10), (3, 10), (1, 5), (1, 2), (2, 3), (3, 4), (4, 5)]\n",
    "\n",
    "g = Graph()\n",
    "g.add_connection(connections)\n",
    "print(g)"
   ]
  },
  {
   "cell_type": "code",
   "execution_count": 4,
   "metadata": {},
   "outputs": [
    {
     "name": "stdout",
     "output_type": "stream",
     "text": [
      "Graph({1: {10, 2, 5}, 2: {10, 3}, 3: {10, 4}, 4: {5}, 10: {2}, 5: {10}})\n"
     ]
    }
   ],
   "source": [
    "g.add(10, 2)\n",
    "g.add(5, 10)\n",
    "g.add(10, 2)\n",
    "print(g)"
   ]
  },
  {
   "cell_type": "code",
   "execution_count": 5,
   "metadata": {},
   "outputs": [
    {
     "name": "stdout",
     "output_type": "stream",
     "text": [
      "Graph({1: {2, 5}, 2: {3}, 3: {4}, 4: {5}, 5: set()})\n"
     ]
    }
   ],
   "source": [
    "g.remove(10)\n",
    "print(g)"
   ]
  }
 ],
 "metadata": {
  "kernelspec": {
   "display_name": "Python 3",
   "language": "python",
   "name": "python3"
  },
  "language_info": {
   "codemirror_mode": {
    "name": "ipython",
    "version": 3
   },
   "file_extension": ".py",
   "mimetype": "text/x-python",
   "name": "python",
   "nbconvert_exporter": "python",
   "pygments_lexer": "ipython3",
   "version": "3.7.4"
  }
 },
 "nbformat": 4,
 "nbformat_minor": 4
}
