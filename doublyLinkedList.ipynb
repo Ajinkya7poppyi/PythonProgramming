{
 "cells": [
  {
   "cell_type": "markdown",
   "metadata": {},
   "source": [
    "#### Doubly Linked List"
   ]
  },
  {
   "cell_type": "code",
   "execution_count": 38,
   "metadata": {},
   "outputs": [],
   "source": [
    "# Node class\n",
    "class Node:\n",
    "    # Function to initialize node\n",
    "    def __init__(self, data=None, prev=None, next=None):\n",
    "        self.next = next\n",
    "        self.prev = prev\n",
    "        self.data = data\n",
    "\n",
    "    def __repr__(self):\n",
    "        return self.data"
   ]
  },
  {
   "cell_type": "code",
   "execution_count": 40,
   "metadata": {},
   "outputs": [
    {
     "ename": "NameError",
     "evalue": "name 'newNode' is not defined",
     "output_type": "error",
     "traceback": [
      "\u001b[1;31m---------------------------------------------------------------------------\u001b[0m",
      "\u001b[1;31mNameError\u001b[0m                                 Traceback (most recent call last)",
      "\u001b[1;32m<ipython-input-40-72f4d913808b>\u001b[0m in \u001b[0;36m<module>\u001b[1;34m\u001b[0m\n\u001b[0;32m      1\u001b[0m \u001b[1;31m# Doubly linked list\u001b[0m\u001b[1;33m\u001b[0m\u001b[1;33m\u001b[0m\u001b[1;33m\u001b[0m\u001b[0m\n\u001b[1;32m----> 2\u001b[1;33m \u001b[1;32mclass\u001b[0m \u001b[0mDoublyLinkedList\u001b[0m\u001b[1;33m:\u001b[0m\u001b[1;33m\u001b[0m\u001b[1;33m\u001b[0m\u001b[0m\n\u001b[0m\u001b[0;32m      3\u001b[0m     \u001b[1;31m# create list\u001b[0m\u001b[1;33m\u001b[0m\u001b[1;33m\u001b[0m\u001b[1;33m\u001b[0m\u001b[0m\n\u001b[0;32m      4\u001b[0m     \u001b[1;32mdef\u001b[0m \u001b[0m__init__\u001b[0m\u001b[1;33m(\u001b[0m\u001b[0mself\u001b[0m\u001b[1;33m)\u001b[0m\u001b[1;33m:\u001b[0m\u001b[1;33m\u001b[0m\u001b[1;33m\u001b[0m\u001b[0m\n\u001b[0;32m      5\u001b[0m         \u001b[0mself\u001b[0m\u001b[1;33m.\u001b[0m\u001b[0mhead\u001b[0m \u001b[1;33m=\u001b[0m \u001b[1;32mNone\u001b[0m\u001b[1;33m\u001b[0m\u001b[1;33m\u001b[0m\u001b[0m\n",
      "\u001b[1;32m<ipython-input-40-72f4d913808b>\u001b[0m in \u001b[0;36mDoublyLinkedList\u001b[1;34m()\u001b[0m\n\u001b[0;32m     44\u001b[0m \u001b[1;33m\u001b[0m\u001b[0m\n\u001b[0;32m     45\u001b[0m     \u001b[1;31m# append next to back\u001b[0m\u001b[1;33m\u001b[0m\u001b[1;33m\u001b[0m\u001b[1;33m\u001b[0m\u001b[0m\n\u001b[1;32m---> 46\u001b[1;33m     \u001b[0mself\u001b[0m\u001b[1;33m.\u001b[0m\u001b[0mhead\u001b[0m\u001b[1;33m.\u001b[0m\u001b[0mprev\u001b[0m \u001b[1;33m=\u001b[0m \u001b[0mnewNode\u001b[0m\u001b[1;33m\u001b[0m\u001b[1;33m\u001b[0m\u001b[0m\n\u001b[0m\u001b[0;32m     47\u001b[0m     \u001b[0mnewNode\u001b[0m\u001b[1;33m.\u001b[0m\u001b[0mnext\u001b[0m \u001b[1;33m=\u001b[0m \u001b[0mself\u001b[0m\u001b[1;33m.\u001b[0m\u001b[0mhead\u001b[0m\u001b[1;33m\u001b[0m\u001b[1;33m\u001b[0m\u001b[0m\n\u001b[0;32m     48\u001b[0m     \u001b[0mself\u001b[0m\u001b[1;33m.\u001b[0m\u001b[0mhead\u001b[0m \u001b[1;33m=\u001b[0m \u001b[0mnewNode\u001b[0m\u001b[1;33m\u001b[0m\u001b[1;33m\u001b[0m\u001b[0m\n",
      "\u001b[1;31mNameError\u001b[0m: name 'newNode' is not defined"
     ]
    }
   ],
   "source": [
    "# Doubly linked list\n",
    "class DoublyLinkedList:\n",
    "    # create list\n",
    "    def __init__(self):\n",
    "        self.head = None\n",
    "        self.tail = None\n",
    "\n",
    "    # iterartor for list\n",
    "    def __iter__(self):\n",
    "        node = self.head\n",
    "        while node is not None:\n",
    "            yield node\n",
    "            node = node.next\n",
    "\n",
    "    def __reversed__(self):\n",
    "        node = self.tail\n",
    "        while node is not None:\n",
    "            yield node\n",
    "            node = node.prev\n",
    "\n",
    "    # Display all nodes in list\n",
    "    def __repr__(self):\n",
    "        nodes = []\n",
    "        nodes.append('None')\n",
    "        for node in self:\n",
    "            nodes.append(node.data)\n",
    "        nodes.append('None')\n",
    "        for node in reversed(self):\n",
    "            nodes.append(node.data)\n",
    "        nodes.append('None')\n",
    "\n",
    "        return('->'.join(nodes))\n",
    "\n",
    "    # add node in list\n",
    "    def push(self, data):\n",
    "        #create new Node\n",
    "        newNode = Node(data)\n",
    "\n",
    "        # if linked list is empty\n",
    "        if self.head is None:\n",
    "            self.head = newNode\n",
    "            self.tail = newNode\n",
    "            return\n",
    "\n",
    "        # append next to back\n",
    "        self.head.prev = newNode\n",
    "        newNode.next = self.head\n",
    "        self.head = newNode\n",
    "\n",
    "    def append(self, data):\n",
    "        # create new Node\n",
    "        newNode = Node(data)\n",
    "\n",
    "        if self.tail is None:\n",
    "            self.head = newNode\n",
    "            self.tail = newNode\n",
    "            return\n",
    "    \n",
    "        # append back to next\n",
    "        self.tail.next = newNode\n",
    "        newNode.prev = self.tail\n",
    "        self.tail = newNode\n",
    "\n",
    "    def remove(self, data):\n",
    "        # check if list is empty\n",
    "        if self.head is None:\n",
    "            raise Exception('List is Empty')\n",
    "    \n",
    "        if self.head.data == data:\n",
    "            self.head = self.head.next\n",
    "            self.head.prev = None\n",
    "\n",
    "        if self.tail.data == data:\n",
    "            self.tail = self.tail.prev\n",
    "            self.tail.next = None\n",
    "\n",
    "        for node in self:\n",
    "            if node.data == data:\n",
    "                node.next.prev = node.prev\n",
    "                node.prev.next = node.next"
   ]
  },
  {
   "cell_type": "code",
   "execution_count": 35,
   "metadata": {},
   "outputs": [
    {
     "ename": "NameError",
     "evalue": "name 'DoublyLinkedList' is not defined",
     "output_type": "error",
     "traceback": [
      "\u001b[1;31m---------------------------------------------------------------------------\u001b[0m",
      "\u001b[1;31mNameError\u001b[0m                                 Traceback (most recent call last)",
      "\u001b[1;32m<ipython-input-35-c42d9ec5a9cb>\u001b[0m in \u001b[0;36m<module>\u001b[1;34m\u001b[0m\n\u001b[1;32m----> 1\u001b[1;33m \u001b[0mdlist\u001b[0m \u001b[1;33m=\u001b[0m \u001b[0mDoublyLinkedList\u001b[0m\u001b[1;33m(\u001b[0m\u001b[1;33m)\u001b[0m\u001b[1;33m\u001b[0m\u001b[1;33m\u001b[0m\u001b[0m\n\u001b[0m\u001b[0;32m      2\u001b[0m \u001b[1;31m# start with head\u001b[0m\u001b[1;33m\u001b[0m\u001b[1;33m\u001b[0m\u001b[1;33m\u001b[0m\u001b[0m\n\u001b[0;32m      3\u001b[0m \u001b[0mnode_first\u001b[0m \u001b[1;33m=\u001b[0m \u001b[0mNode\u001b[0m\u001b[1;33m(\u001b[0m\u001b[1;34m'a'\u001b[0m\u001b[1;33m)\u001b[0m\u001b[1;33m\u001b[0m\u001b[1;33m\u001b[0m\u001b[0m\n\u001b[0;32m      4\u001b[0m \u001b[0mnode_second\u001b[0m \u001b[1;33m=\u001b[0m \u001b[0mNode\u001b[0m\u001b[1;33m(\u001b[0m\u001b[1;34m'b'\u001b[0m\u001b[1;33m)\u001b[0m\u001b[1;33m\u001b[0m\u001b[1;33m\u001b[0m\u001b[0m\n\u001b[0;32m      5\u001b[0m \u001b[0mnode_third\u001b[0m \u001b[1;33m=\u001b[0m \u001b[0mNode\u001b[0m\u001b[1;33m(\u001b[0m\u001b[1;34m'c'\u001b[0m\u001b[1;33m)\u001b[0m\u001b[1;33m\u001b[0m\u001b[1;33m\u001b[0m\u001b[0m\n",
      "\u001b[1;31mNameError\u001b[0m: name 'DoublyLinkedList' is not defined"
     ]
    }
   ],
   "source": [
    "dlist = DoublyLinkedList()\n",
    "# start with head\n",
    "node_first = Node('a')\n",
    "node_second = Node('b')\n",
    "node_third = Node('c')\n",
    "\n",
    "dlist.head = node_first\n",
    "node_first.next = node_second\n",
    "node_second.next = node_third\n",
    "\n",
    "dlist.tail = node_third\n",
    "node_third.prev = node_second\n",
    "node_second.prev = node_first\n",
    "dlist.append('9')\n",
    "dlist.append('8')\n",
    "dlist.push('7')\n",
    "dlist.push('6')\n",
    "dlist.push('5')\n",
    "dlist.remove('8')\n",
    "print(dlist)"
   ]
  },
  {
   "cell_type": "code",
   "execution_count": null,
   "metadata": {},
   "outputs": [],
   "source": []
  }
 ],
 "metadata": {
  "kernelspec": {
   "display_name": "Python 3",
   "language": "python",
   "name": "python3"
  },
  "language_info": {
   "codemirror_mode": {
    "name": "ipython",
    "version": 3
   },
   "file_extension": ".py",
   "mimetype": "text/x-python",
   "name": "python",
   "nbconvert_exporter": "python",
   "pygments_lexer": "ipython3",
   "version": "3.7.4"
  }
 },
 "nbformat": 4,
 "nbformat_minor": 4
}
