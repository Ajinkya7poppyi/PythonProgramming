{
 "cells": [
  {
   "cell_type": "markdown",
   "metadata": {},
   "source": [
    "#### Doubly Linked List"
   ]
  },
  {
   "cell_type": "code",
   "execution_count": 1,
   "metadata": {},
   "outputs": [],
   "source": [
    "# Node class\n",
    "class Node:\n",
    "    # Function to initialize node\n",
    "    def __init__(self, data=None, prev=None, next=None):\n",
    "        self.next = next\n",
    "        self.prev = prev\n",
    "        self.data = data\n",
    "\n",
    "    def __repr__(self):\n",
    "        return self.data"
   ]
  },
  {
   "cell_type": "code",
   "execution_count": 2,
   "metadata": {},
   "outputs": [],
   "source": [
    "# Doubly linked list\n",
    "class DoublyLinkedList:\n",
    "    # create list\n",
    "    def __init__(self):\n",
    "        self.head = None\n",
    "        self.tail = None\n",
    "\n",
    "    # iterartor for list\n",
    "    def __iter__(self):\n",
    "        node = self.head\n",
    "        while node is not None:\n",
    "            yield node\n",
    "            node = node.next\n",
    "\n",
    "    def __reversed__(self):\n",
    "        node = self.tail\n",
    "        while node is not None:\n",
    "            yield node\n",
    "            node = node.prev\n",
    "\n",
    "    # Display all nodes in list\n",
    "    def __repr__(self):\n",
    "        nodes = []\n",
    "        nodes.append('None')\n",
    "        for node in self:\n",
    "            nodes.append(node.data)\n",
    "        nodes.append('None')\n",
    "        for node in reversed(self):\n",
    "            nodes.append(node.data)\n",
    "        nodes.append('None')\n",
    "\n",
    "        return('->'.join(nodes))\n",
    "\n",
    "    # add node in list\n",
    "    def push(self, data):\n",
    "        #create new Node\n",
    "        newNode = Node(data)\n",
    "\n",
    "        # if linked list is empty\n",
    "        if self.head is None:\n",
    "            self.head = newNode\n",
    "            self.tail = newNode\n",
    "            return\n",
    "\n",
    "        # append next to back\n",
    "        self.head.prev = newNode\n",
    "        newNode.next = self.head\n",
    "        self.head = newNode\n",
    "\n",
    "    def append(self, data):\n",
    "        # create new Node\n",
    "        newNode = Node(data)\n",
    "\n",
    "        if self.tail is None:\n",
    "            self.head = newNode\n",
    "            self.tail = newNode\n",
    "            return\n",
    "    \n",
    "        # append back to next\n",
    "        self.tail.next = newNode\n",
    "        newNode.prev = self.tail\n",
    "        self.tail = newNode\n",
    "\n",
    "    def remove(self, data):\n",
    "        # check if list is empty\n",
    "        if self.head is None:\n",
    "            raise Exception('List is Empty')\n",
    "    \n",
    "        if self.head.data == data:\n",
    "            self.head = self.head.next\n",
    "            self.head.prev = None\n",
    "\n",
    "        if self.tail.data == data:\n",
    "            self.tail = self.tail.prev\n",
    "            self.tail.next = None\n",
    "\n",
    "        for node in self:\n",
    "            if node.data == data:\n",
    "                node.next.prev = node.prev\n",
    "                node.prev.next = node.next"
   ]
  },
  {
   "cell_type": "code",
   "execution_count": 3,
   "metadata": {},
   "outputs": [
    {
     "name": "stdout",
     "output_type": "stream",
     "text": [
      "None->a->b->c->None->c->b->a->None\n",
      "None->5->6->7->a->b->c->9->8->None->8->9->c->b->a->7->6->5->None\n",
      "None->5->6->7->a->b->c->9->None->9->c->b->a->7->6->5->None\n"
     ]
    }
   ],
   "source": [
    "dlist = DoublyLinkedList()\n",
    "# start with head\n",
    "node_first = Node('a')\n",
    "node_second = Node('b')\n",
    "node_third = Node('c')\n",
    "\n",
    "dlist.head = node_first\n",
    "node_first.next = node_second\n",
    "node_second.next = node_third\n",
    "\n",
    "dlist.tail = node_third\n",
    "node_third.prev = node_second\n",
    "node_second.prev = node_first\n",
    "print(dlist)\n",
    "dlist.append('9')\n",
    "dlist.append('8')\n",
    "dlist.push('7')\n",
    "dlist.push('6')\n",
    "dlist.push('5')\n",
    "print(dlist)\n",
    "dlist.remove('8')\n",
    "print(dlist)"
   ]
  }
 ],
 "metadata": {
  "kernelspec": {
   "display_name": "Python 3",
   "language": "python",
   "name": "python3"
  },
  "language_info": {
   "codemirror_mode": {
    "name": "ipython",
    "version": 3
   },
   "file_extension": ".py",
   "mimetype": "text/x-python",
   "name": "python",
   "nbconvert_exporter": "python",
   "pygments_lexer": "ipython3",
   "version": "3.7.4"
  }
 },
 "nbformat": 4,
 "nbformat_minor": 4
}
