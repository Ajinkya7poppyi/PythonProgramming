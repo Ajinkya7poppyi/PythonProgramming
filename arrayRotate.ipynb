{
 "cells": [
  {
   "cell_type": "markdown",
   "metadata": {},
   "source": [
    "#### Python program to rotate array elements \n",
    "Original Array: [1, 2, 3, 4, 5, 6, 7, 8, 9, 10]   \n",
    "Rotataed Array by 2 to right: [9, 10, 1, 2, 3, 4, 5, 6, 7, 8]"
   ]
  },
  {
   "cell_type": "code",
   "execution_count": 1,
   "metadata": {},
   "outputs": [],
   "source": [
    "import array\n",
    "def rotate(iparr, direction=1, shift=1):\n",
    "    '''\n",
    "    Returns the rotated array.\n",
    "\n",
    "    Parameters:\n",
    "        iparr (array):The array which is to be rotated.\n",
    "        direction (int):The direction of rotate\n",
    "                        +1  for left rotate\n",
    "                        -1 for right rotate\n",
    "        shift (int):The number of bytes to move.\n",
    "\n",
    "    Returns:\n",
    "        rotate(iparr):The array which gets rotated with left shift of 1.   \n",
    "    '''\n",
    "    #Returns the rotated array.\n",
    "\n",
    "    #Parameters:\n",
    "    #    ipar (array): The array to be roatated\n",
    "    #     \n",
    "\n",
    "    #Returns:\n",
    "    #    reverse(str1):The string which gets reversed.\n",
    "    iparr = iparr[direction*shift:] + iparr[:direction*shift]\n",
    "    return iparr"
   ]
  },
  {
   "cell_type": "code",
   "execution_count": 2,
   "metadata": {},
   "outputs": [
    {
     "name": "stdout",
     "output_type": "stream",
     "text": [
      "array('i', [0, 1, 2, 3, 4, 5, 6, 7, 8, 9])\n",
      "array('i', [1, 2, 3, 4, 5, 6, 7, 8, 9, 0])\n",
      "array('i', [8, 9, 0, 1, 2, 3, 4, 5, 6, 7])\n"
     ]
    }
   ],
   "source": [
    "arrInt = array.array('i', range(10))\n",
    "print(arrInt)\n",
    "arrInt  = rotate(arrInt, 1, 1)\n",
    "print(arrInt)\n",
    "arrInt  = rotate(arrInt, -1, 3)\n",
    "print(arrInt)"
   ]
  }
 ],
 "metadata": {
  "kernelspec": {
   "display_name": "Python 3",
   "language": "python",
   "name": "python3"
  },
  "language_info": {
   "codemirror_mode": {
    "name": "ipython",
    "version": 3
   },
   "file_extension": ".py",
   "mimetype": "text/x-python",
   "name": "python",
   "nbconvert_exporter": "python",
   "pygments_lexer": "ipython3",
   "version": "3.7.4"
  }
 },
 "nbformat": 4,
 "nbformat_minor": 4
}
