{
 "cells": [
  {
   "cell_type": "markdown",
   "metadata": {},
   "source": [
    "#### Tuple"
   ]
  },
  {
   "cell_type": "code",
   "execution_count": 1,
   "metadata": {},
   "outputs": [
    {
     "name": "stdout",
     "output_type": "stream",
     "text": [
      "<class 'tuple'>\n",
      "(1, 5, 'Hello', 3, ['s', 'a', 'm', 'p', 'l', 'e'])\n",
      "<class 'str'>\n",
      "Hello\n",
      "<class 'tuple'>\n",
      "('Hello',)\n",
      "<class 'int'>\n",
      "1\n",
      "<class 'tuple'>\n",
      "(1,)\n",
      "<class 'list'>\n",
      "[1, 2]\n",
      "<class 'tuple'>\n",
      "([1, 2],)\n",
      "<class 'tuple'>\n",
      "(1, 'hello', [1, 2])\n"
     ]
    }
   ],
   "source": [
    "# sample tuple\n",
    "sampleTuple = (1, 5, 'Hello', 3, ['s', 'a', 'm', 'p', 'l', 'e'])\n",
    "print(type(sampleTuple))\n",
    "print(sampleTuple)\n",
    "\n",
    "string_ = ('Hello')\n",
    "print(type(string_))\n",
    "print(string_)\n",
    "\n",
    "strTuple = ('Hello',)\n",
    "print(type(strTuple))\n",
    "print(strTuple)\n",
    "\n",
    "number_ = (1)\n",
    "print(type(number_))\n",
    "print(number_)\n",
    "\n",
    "numTuple = (1,)\n",
    "print(type(numTuple))\n",
    "print(numTuple)\n",
    "\n",
    "list_ = ([1, 2])\n",
    "print(type(list_))\n",
    "print(list_)\n",
    "\n",
    "listTuple = ([1, 2],)\n",
    "print(type(listTuple))\n",
    "print(listTuple)\n",
    "\n",
    "mixTuple = 1, 'hello', [1, 2]\n",
    "print(type(mixTuple))\n",
    "print(mixTuple)"
   ]
  },
  {
   "cell_type": "markdown",
   "metadata": {},
   "source": [
    "#### Tuple Copy referencing"
   ]
  },
  {
   "cell_type": "code",
   "execution_count": 2,
   "metadata": {},
   "outputs": [
    {
     "name": "stdout",
     "output_type": "stream",
     "text": [
      "Sample Tuple:(1, 5, 'Hello', 3, ['s', 'a', 'm', 'p', 'l', 'e'])\n",
      "Reference Tuple:(1, 5, 'Hello', 3, ['s', 'a', 'm', 'p', 'l', 'e'])\n",
      "Id of Sample Tuple:2607444140584\n",
      "Id of RefTuple:2607444140584\n"
     ]
    }
   ],
   "source": [
    "# tuple referencing\n",
    "refTuple = sampleTuple\n",
    "\n",
    "# print copy list\n",
    "print('Sample Tuple:' +''.join(str(sampleTuple)), 'Reference Tuple:' + ''.join(str(refTuple)), sep='\\n')\n",
    "print('Id of Sample Tuple:' + str(id(sampleTuple)), 'Id of RefTuple:' + str(id(refTuple)), sep='\\n')"
   ]
  },
  {
   "cell_type": "code",
   "execution_count": 3,
   "metadata": {},
   "outputs": [
    {
     "name": "stdout",
     "output_type": "stream",
     "text": [
      "Sample Tuple:(1, 5, 'Hello', 3, ['s', 'a', 'm', 'p', 'l', 'e'], 5, 'SampleTuple')\n",
      "Reference Tuple:(1, 5, 'Hello', 3, ['s', 'a', 'm', 'p', 'l', 'e'])\n",
      "Id of Sample Tuple:2607443671864\n",
      "Id of RefTuple:2607444140584\n"
     ]
    }
   ],
   "source": [
    "sampleTuple = sampleTuple + (5, 'SampleTuple')\n",
    "\n",
    "# print copy list\n",
    "print('Sample Tuple:' +''.join(str(sampleTuple)), 'Reference Tuple:' + ''.join(str(refTuple)), sep='\\n')\n",
    "print('Id of Sample Tuple:' + str(id(sampleTuple)), 'Id of RefTuple:' + str(id(refTuple)), sep='\\n')"
   ]
  },
  {
   "cell_type": "code",
   "execution_count": 4,
   "metadata": {},
   "outputs": [
    {
     "name": "stdout",
     "output_type": "stream",
     "text": [
      "Sample Tuple:(1, 5, 'Hello', 3, ['w', 'a', 'm', 'p', 'l', 'e'], 5, 'SampleTuple')\n",
      "Reference Tuple:(1, 5, 'Hello', 3, ['w', 'a', 'm', 'p', 'l', 'e'])\n",
      "Id of Sample Tuple:2607443671864\n",
      "Id of RefTuple:2607444140584\n"
     ]
    }
   ],
   "source": [
    "refTuple[4][0] = 'w'\n",
    "\n",
    "# print copy list\n",
    "print('Sample Tuple:' +''.join(str(sampleTuple)), 'Reference Tuple:' + ''.join(str(refTuple)), sep='\\n')\n",
    "print('Id of Sample Tuple:' + str(id(sampleTuple)), 'Id of RefTuple:' + str(id(refTuple)), sep='\\n')"
   ]
  },
  {
   "cell_type": "markdown",
   "metadata": {},
   "source": [
    "#### Iterate over tuple"
   ]
  },
  {
   "cell_type": "code",
   "execution_count": 5,
   "metadata": {},
   "outputs": [
    {
     "name": "stdout",
     "output_type": "stream",
     "text": [
      "1\n",
      "5\n",
      "Hello\n",
      "3\n",
      "['w', 'a', 'm', 'p', 'l', 'e']\n",
      "5\n",
      "SampleTuple\n"
     ]
    }
   ],
   "source": [
    "for sample in  sampleTuple:\n",
    "    print(sample)"
   ]
  },
  {
   "cell_type": "code",
   "execution_count": 6,
   "metadata": {},
   "outputs": [
    {
     "name": "stdout",
     "output_type": "stream",
     "text": [
      "0 1\n",
      "1 5\n",
      "2 Hello\n",
      "3 3\n",
      "4 ['w', 'a', 'm', 'p', 'l', 'e']\n",
      "5 5\n",
      "6 SampleTuple\n"
     ]
    }
   ],
   "source": [
    "for i, j in enumerate(sampleTuple):\n",
    "    print(i, j)"
   ]
  },
  {
   "cell_type": "code",
   "execution_count": 7,
   "metadata": {},
   "outputs": [
    {
     "name": "stdout",
     "output_type": "stream",
     "text": [
      "Reference Tuple:(1, 5, 'Hello', 3, ['w', 'a', 'm', 'p', 'l', 'e'])\n",
      "Id of RefTuple:2607444140584\n"
     ]
    }
   ],
   "source": [
    "del sampleTuple\n",
    "\n",
    "# print copy list\n",
    "print('Reference Tuple:' + ''.join(str(refTuple)), sep='\\n')\n",
    "print('Id of RefTuple:' + str(id(refTuple)), sep='\\n')"
   ]
  }
 ],
 "metadata": {
  "kernelspec": {
   "display_name": "Python 3",
   "language": "python",
   "name": "python3"
  },
  "language_info": {
   "codemirror_mode": {
    "name": "ipython",
    "version": 3
   },
   "file_extension": ".py",
   "mimetype": "text/x-python",
   "name": "python",
   "nbconvert_exporter": "python",
   "pygments_lexer": "ipython3",
   "version": "3.7.4"
  }
 },
 "nbformat": 4,
 "nbformat_minor": 4
}
