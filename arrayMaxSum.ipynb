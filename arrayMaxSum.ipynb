{
 "cells": [
  {
   "cell_type": "markdown",
   "metadata": {},
   "source": [
    "#### Maximum value of Sum (i * Arr[i])"
   ]
  },
  {
   "cell_type": "markdown",
   "metadata": {},
   "source": [
    "##### Approach 1:"
   ]
  },
  {
   "cell_type": "code",
   "execution_count": 1,
   "metadata": {},
   "outputs": [],
   "source": [
    "import array"
   ]
  },
  {
   "cell_type": "code",
   "execution_count": 2,
   "metadata": {},
   "outputs": [],
   "source": [
    "def rotate(iparr, direction=1, shift=1):\n",
    "    '''\n",
    "    Returns the rotated array.\n",
    "\n",
    "    Parameters:\n",
    "      iparr (array):The array which is to be rotated.\n",
    "      direction (int):The direction of rotate\n",
    "                      +1  for left rotate\n",
    "                      -1 for right rotate\n",
    "      shift (int):The number of bytes to move.\n",
    "\n",
    "    Returns:\n",
    "      rotate(iparr):The array which gets rotated with left shift of 1.   \n",
    "    '''\n",
    "    iparr = iparr[direction*shift:] + iparr[:direction*shift]\n",
    "    return iparr"
   ]
  },
  {
   "cell_type": "code",
   "execution_count": 3,
   "metadata": {},
   "outputs": [],
   "source": [
    "def sumArray(iparr):\n",
    "    '''\n",
    "    Returns the sum of array.\n",
    "\n",
    "    Parameters:\n",
    "      iparr (array):The array which is to be rotated.\n",
    "\n",
    "    Returns:\n",
    "      sumArray(iparr):The sum of array.   \n",
    "    '''\n",
    "    temp = 0\n",
    "    n = len(iparr)\n",
    "    for i in range(n):\n",
    "        temp += i*iparr[i]\n",
    "    return temp"
   ]
  },
  {
   "cell_type": "code",
   "execution_count": 4,
   "metadata": {},
   "outputs": [],
   "source": [
    "def maxSum(iparr):\n",
    "    '''\n",
    "    Returns the max sum of array.\n",
    "\n",
    "    Parameters:\n",
    "      iparr (array):The array which is to be rotated.\n",
    "\n",
    "    Returns:\n",
    "      maxSum(iparr):The max sum of array.   \n",
    "    '''\n",
    "    maxSum = sumArray(iparr)\n",
    "    for i in range(1, len(iparr)):\n",
    "        iparr = rotate(iparr)\n",
    "        currSum = sumArray(iparr)\n",
    "        if currSum > maxSum:\n",
    "              maxSum = currSum\n",
    "    return maxSum"
   ]
  },
  {
   "cell_type": "code",
   "execution_count": 5,
   "metadata": {},
   "outputs": [
    {
     "name": "stdout",
     "output_type": "stream",
     "text": [
      "285\n"
     ]
    }
   ],
   "source": [
    "arrInt = array.array('i', range(10))\n",
    "print(maxSum(arrInt))"
   ]
  }
 ],
 "metadata": {
  "kernelspec": {
   "display_name": "Python 3",
   "language": "python",
   "name": "python3"
  },
  "language_info": {
   "codemirror_mode": {
    "name": "ipython",
    "version": 3
   },
   "file_extension": ".py",
   "mimetype": "text/x-python",
   "name": "python",
   "nbconvert_exporter": "python",
   "pygments_lexer": "ipython3",
   "version": "3.7.4"
  }
 },
 "nbformat": 4,
 "nbformat_minor": 4
}
