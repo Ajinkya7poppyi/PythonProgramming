{
 "cells": [
  {
   "cell_type": "markdown",
   "metadata": {},
   "source": [
    "#### Dictionary"
   ]
  },
  {
   "cell_type": "code",
   "execution_count": 1,
   "metadata": {},
   "outputs": [
    {
     "name": "stdout",
     "output_type": "stream",
     "text": [
      "Type of sampleDict:<class 'dict'>\n",
      "Values of sampleDict:{1: 'Sample', 2: 'Example', '3': 'Dictionary'}\n"
     ]
    }
   ],
   "source": [
    "# create dictionary\n",
    "sampleDict = {}\n",
    "print(\"Type of sampleDict:\" + str(type(sampleDict)))\n",
    "\n",
    "sampleDict = dict({1: 'Sample', 2:'Example', '3':'Dictionary'})\n",
    "print(\"Values of sampleDict:\" + str(sampleDict))"
   ]
  },
  {
   "cell_type": "markdown",
   "metadata": {},
   "source": [
    "#### Update Dict"
   ]
  },
  {
   "cell_type": "code",
   "execution_count": 2,
   "metadata": {},
   "outputs": [
    {
     "name": "stdout",
     "output_type": "stream",
     "text": [
      "Updated of sampleDict:{1: 'Sample', 2: 'Example', '3': 'Dictionary', 3: [1, 2, 3]}\n",
      "Updated of sampleDict:{1: 'Sample', 2: 'Example', '3': [3, 3, 3], 3: [1, 2, 3]}\n",
      "Updated list in sampleDict:{1: 'Sample', 2: 'Example', '3': [3, 3, 3], 3: [1, 2, 3], '6': ['Added', 'six', 'list']}\n",
      "Updated tuple in sampleDict:{1: 'Sample', 2: 'Example', '3': [3, 3, 3], 3: [1, 2, 3], '6': ['Added', 'six', 'list'], '7': ('Added', 'seven', 'list')}\n",
      "Updated set in sampleDict:{1: 'Sample', 2: 'Example', '3': [3, 3, 3], 3: [1, 2, 3], '6': ['Added', 'six', 'list'], '7': ('Added', 'seven', 'list'), '8': {'Eight', 'list', 'Added'}}\n"
     ]
    }
   ],
   "source": [
    "sampleDict.update(dict([(3, [1, 2, 3])]))\n",
    "print(\"Updated of sampleDict:\" + str(sampleDict))\n",
    "\n",
    "sampleDict.update(dict([('3', [3, 3, 3])]))\n",
    "print(\"Updated of sampleDict:\" + str(sampleDict))\n",
    "\n",
    "sampleDict['6'] = ['Added', 'six', 'list']\n",
    "print(\"Updated list in sampleDict:\" + str(sampleDict))\n",
    "\n",
    "sampleDict['7'] = ('Added', 'seven', 'list')\n",
    "print(\"Updated tuple in sampleDict:\" + str(sampleDict))\n",
    "\n",
    "sampleDict['8'] = {'Added', 'Eight', 'list'}\n",
    "print(\"Updated set in sampleDict:\" + str(sampleDict))"
   ]
  },
  {
   "cell_type": "markdown",
   "metadata": {},
   "source": [
    "#### Access and modify"
   ]
  },
  {
   "cell_type": "code",
   "execution_count": 3,
   "metadata": {},
   "outputs": [
    {
     "name": "stdout",
     "output_type": "stream",
     "text": [
      "[1, 2, 3]\n",
      "[3, 3, 3]\n",
      "None\n",
      "dict_items([(1, 'Sample'), (2, 'Example'), ('3', [3, 3, 3]), (3, [1, 2, 3]), ('6', ['Added', 'six', 'list']), ('7', ('Added', 'seven', 'list')), ('8', {'Eight', 'list', 'Added'})])\n",
      "dict_keys([1, 2, '3', 3, '6', '7', '8'])\n",
      "dict_values(['Sample', 'Example', [3, 3, 3], [1, 2, 3], ['Added', 'six', 'list'], ('Added', 'seven', 'list'), {'Eight', 'list', 'Added'}])\n",
      "Updated after Pop in sampleDict:{1: 'Sample', 2: 'Example', '3': [3, 3, 3], 3: [1, 2, 3], '6': ['Added', 'six', 'list'], '7': ('Added', 'seven', 'list')}\n"
     ]
    }
   ],
   "source": [
    "print(sampleDict[3])\n",
    "print(sampleDict.get('3'))\n",
    "print(sampleDict.get(10))\n",
    "\n",
    "print(sampleDict.items(), sampleDict.keys(), sep='\\n')\n",
    "print(sampleDict.values())\n",
    "\n",
    "sampleDict.popitem()\n",
    "print(\"Updated after Pop in sampleDict:\" + str(sampleDict))"
   ]
  },
  {
   "cell_type": "markdown",
   "metadata": {},
   "source": [
    "#### Dictionary from list"
   ]
  },
  {
   "cell_type": "code",
   "execution_count": 4,
   "metadata": {},
   "outputs": [
    {
     "name": "stdout",
     "output_type": "stream",
     "text": [
      "{0: 0, 1: 0, 2: 0, 3: 0, 4: 0}\n"
     ]
    }
   ],
   "source": [
    "# list\n",
    "keyList = list(range(5))\n",
    "\n",
    "listDict = dict().fromkeys(keyList, 0)\n",
    "print(listDict)"
   ]
  },
  {
   "cell_type": "markdown",
   "metadata": {},
   "source": [
    "#### Dictionary from tuple"
   ]
  },
  {
   "cell_type": "code",
   "execution_count": 5,
   "metadata": {},
   "outputs": [
    {
     "name": "stdout",
     "output_type": "stream",
     "text": [
      "{0: 0, 1: 0, 2: 0, 3: 0, 4: 0}\n"
     ]
    }
   ],
   "source": [
    "# tuple\n",
    "keyTuple = tuple(range(5))\n",
    "tupleDict = dict().fromkeys(keyTuple, 0)\n",
    "print(tupleDict)"
   ]
  },
  {
   "cell_type": "markdown",
   "metadata": {},
   "source": [
    "#### Dictionary from set"
   ]
  },
  {
   "cell_type": "code",
   "execution_count": 6,
   "metadata": {},
   "outputs": [
    {
     "name": "stdout",
     "output_type": "stream",
     "text": [
      "{0: 0, 1: 0, 2: 0, 3: 0, 4: 0}\n"
     ]
    }
   ],
   "source": [
    "# set\n",
    "keySet = set(range(5))\n",
    "setDict = dict().fromkeys(keySet, 0)\n",
    "print(setDict)"
   ]
  },
  {
   "cell_type": "markdown",
   "metadata": {},
   "source": [
    "#### dictionary Comprehnsion"
   ]
  },
  {
   "cell_type": "code",
   "execution_count": 7,
   "metadata": {},
   "outputs": [
    {
     "name": "stdout",
     "output_type": "stream",
     "text": [
      "{0: 0, 1: 2, 2: 4, 3: 6, 4: 8, 5: 10, 6: 12, 7: 14, 8: 16, 9: 18, 10: 20}\n"
     ]
    }
   ],
   "source": [
    "twoSeries = {x: x*2 for x in range(11)}\n",
    "print(twoSeries)"
   ]
  },
  {
   "cell_type": "markdown",
   "metadata": {},
   "source": [
    "#### For loop"
   ]
  },
  {
   "cell_type": "code",
   "execution_count": 8,
   "metadata": {},
   "outputs": [
    {
     "name": "stdout",
     "output_type": "stream",
     "text": [
      "0 0\n",
      "1 2\n",
      "2 4\n",
      "3 6\n",
      "4 8\n",
      "5 10\n",
      "6 12\n",
      "7 14\n",
      "8 16\n",
      "9 18\n",
      "10 20\n"
     ]
    }
   ],
   "source": [
    "for i in twoSeries:\n",
    "    print(i, twoSeries[i])"
   ]
  },
  {
   "cell_type": "code",
   "execution_count": 9,
   "metadata": {},
   "outputs": [
    {
     "name": "stdout",
     "output_type": "stream",
     "text": [
      "0 0\n",
      "1 2\n",
      "2 4\n",
      "3 6\n",
      "4 8\n",
      "5 10\n",
      "6 12\n",
      "7 14\n",
      "8 16\n",
      "9 18\n",
      "10 20\n"
     ]
    }
   ],
   "source": [
    "for key, value in twoSeries.items():\n",
    "    print(key, value)"
   ]
  },
  {
   "cell_type": "markdown",
   "metadata": {},
   "source": [
    "##### Dictionary Comprehnsion with imbalanced zip"
   ]
  },
  {
   "cell_type": "code",
   "execution_count": 10,
   "metadata": {},
   "outputs": [
    {
     "name": "stdout",
     "output_type": "stream",
     "text": [
      "{'first': 'Apple', 'second': 'Mango', 'third': 'Bananna'}\n"
     ]
    }
   ],
   "source": [
    "type = ('first', 'second', 'third')\n",
    "category = ['Apple', 'Mango', 'Bananna', 'Cherry']\n",
    "catType = dict()\n",
    "for i, j in zip(type, category):\n",
    "    catType[i] = j\n",
    "print(catType)"
   ]
  },
  {
   "cell_type": "markdown",
   "metadata": {},
   "source": [
    "#### rules for dictionary keys:- list, tupple, sets and frozenset"
   ]
  },
  {
   "cell_type": "code",
   "execution_count": 11,
   "metadata": {},
   "outputs": [
    {
     "ename": "TypeError",
     "evalue": "unhashable type: 'list'",
     "output_type": "error",
     "traceback": [
      "\u001b[1;31m---------------------------------------------------------------------------\u001b[0m",
      "\u001b[1;31mTypeError\u001b[0m                                 Traceback (most recent call last)",
      "\u001b[1;32m<ipython-input-11-af6f4c2b615a>\u001b[0m in \u001b[0;36m<module>\u001b[1;34m\u001b[0m\n\u001b[0;32m      1\u001b[0m \u001b[0msampleDict\u001b[0m \u001b[1;33m=\u001b[0m \u001b[0mdict\u001b[0m\u001b[1;33m(\u001b[0m\u001b[1;33m)\u001b[0m\u001b[1;33m\u001b[0m\u001b[1;33m\u001b[0m\u001b[0m\n\u001b[1;32m----> 2\u001b[1;33m \u001b[0msampleDict\u001b[0m\u001b[1;33m[\u001b[0m\u001b[1;33m[\u001b[0m\u001b[1;36m1\u001b[0m\u001b[1;33m,\u001b[0m \u001b[1;36m2\u001b[0m\u001b[1;33m,\u001b[0m \u001b[1;36m3\u001b[0m\u001b[1;33m]\u001b[0m\u001b[1;33m]\u001b[0m \u001b[1;33m=\u001b[0m \u001b[1;36m0\u001b[0m\u001b[1;33m\u001b[0m\u001b[1;33m\u001b[0m\u001b[0m\n\u001b[0m",
      "\u001b[1;31mTypeError\u001b[0m: unhashable type: 'list'"
     ]
    }
   ],
   "source": [
    "sampleDict = dict()\n",
    "sampleDict[[1, 2, 3]] = 0"
   ]
  },
  {
   "cell_type": "code",
   "execution_count": 12,
   "metadata": {},
   "outputs": [
    {
     "ename": "TypeError",
     "evalue": "unhashable type: 'set'",
     "output_type": "error",
     "traceback": [
      "\u001b[1;31m---------------------------------------------------------------------------\u001b[0m",
      "\u001b[1;31mTypeError\u001b[0m                                 Traceback (most recent call last)",
      "\u001b[1;32m<ipython-input-12-35ec4816f1ce>\u001b[0m in \u001b[0;36m<module>\u001b[1;34m\u001b[0m\n\u001b[0;32m      1\u001b[0m \u001b[0msampleDict\u001b[0m \u001b[1;33m=\u001b[0m \u001b[0mdict\u001b[0m\u001b[1;33m(\u001b[0m\u001b[1;33m)\u001b[0m\u001b[1;33m\u001b[0m\u001b[1;33m\u001b[0m\u001b[0m\n\u001b[1;32m----> 2\u001b[1;33m \u001b[0msampleDict\u001b[0m\u001b[1;33m[\u001b[0m\u001b[1;33m{\u001b[0m\u001b[1;36m1\u001b[0m\u001b[1;33m,\u001b[0m \u001b[1;36m2\u001b[0m\u001b[1;33m,\u001b[0m \u001b[1;36m3\u001b[0m\u001b[1;33m}\u001b[0m\u001b[1;33m]\u001b[0m \u001b[1;33m=\u001b[0m \u001b[1;36m0\u001b[0m\u001b[1;33m\u001b[0m\u001b[1;33m\u001b[0m\u001b[0m\n\u001b[0m",
      "\u001b[1;31mTypeError\u001b[0m: unhashable type: 'set'"
     ]
    }
   ],
   "source": [
    "sampleDict = dict()\n",
    "sampleDict[{1, 2, 3}] = 0"
   ]
  },
  {
   "cell_type": "code",
   "execution_count": 13,
   "metadata": {},
   "outputs": [
    {
     "name": "stdout",
     "output_type": "stream",
     "text": [
      "{(1, 2, 3): [0, 1, 2]}\n"
     ]
    }
   ],
   "source": [
    "sampleDict = dict()\n",
    "sampleDict[(1, 2, 3)] = [0, 1, 2]\n",
    "print(sampleDict)"
   ]
  },
  {
   "cell_type": "code",
   "execution_count": 14,
   "metadata": {},
   "outputs": [
    {
     "name": "stdout",
     "output_type": "stream",
     "text": [
      "{(1, 2, 3): [0, 1, 2], frozenset({2, 3}): [0, 1, 2]}\n"
     ]
    }
   ],
   "source": [
    "sampleDict[frozenset([2, 3])] = [0, 1, 2]\n",
    "print(sampleDict)"
   ]
  }
 ],
 "metadata": {
  "kernelspec": {
   "display_name": "Python 3",
   "language": "python",
   "name": "python3"
  },
  "language_info": {
   "codemirror_mode": {
    "name": "ipython",
    "version": 3
   },
   "file_extension": ".py",
   "mimetype": "text/x-python",
   "name": "python",
   "nbconvert_exporter": "python",
   "pygments_lexer": "ipython3",
   "version": "3.7.4"
  }
 },
 "nbformat": 4,
 "nbformat_minor": 4
}
