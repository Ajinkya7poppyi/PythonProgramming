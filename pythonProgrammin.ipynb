{
 "cells": [
  {
   "cell_type": "markdown",
   "metadata": {},
   "source": [
    "#### Print"
   ]
  },
  {
   "cell_type": "code",
   "execution_count": 1,
   "metadata": {},
   "outputs": [
    {
     "name": "stdout",
     "output_type": "stream",
     "text": [
      "Hello World\n",
      "None\n"
     ]
    }
   ],
   "source": [
    "# return of print is None\n",
    "ret = print('Hello World')\n",
    "print(ret)"
   ]
  },
  {
   "cell_type": "markdown",
   "metadata": {},
   "source": [
    "#### Numbers"
   ]
  },
  {
   "cell_type": "code",
   "execution_count": 2,
   "metadata": {},
   "outputs": [
    {
     "name": "stdout",
     "output_type": "stream",
     "text": [
      "40\n",
      "40.0\n",
      "40\n",
      "6\n"
     ]
    }
   ],
   "source": [
    "myint = 40\n",
    "print(myint)\n",
    "print(float(myint))\n",
    "print(str(myint))\n",
    "print(myint.bit_length())"
   ]
  },
  {
   "cell_type": "markdown",
   "metadata": {},
   "source": [
    "#### Strings"
   ]
  },
  {
   "cell_type": "code",
   "execution_count": 3,
   "metadata": {},
   "outputs": [
    {
     "name": "stdout",
     "output_type": "stream",
     "text": [
      "Hello\n",
      "HelloWorld\n"
     ]
    }
   ],
   "source": [
    "str1 = 'Hello'\n",
    "print(str1)\n",
    "str2 = 'World'\n",
    "print(str1+str2)"
   ]
  },
  {
   "cell_type": "markdown",
   "metadata": {},
   "source": [
    "#### String Number Concanetation"
   ]
  },
  {
   "cell_type": "code",
   "execution_count": 4,
   "metadata": {},
   "outputs": [
    {
     "name": "stdout",
     "output_type": "stream",
     "text": [
      "20 30\n",
      "50\n",
      "2030hello world\n"
     ]
    }
   ],
   "source": [
    "a, b = 20, 30\n",
    "c= 'hello world'\n",
    "print(a, b)\n",
    "print(a+b)\n",
    "print(str(a) + str(b) + c)"
   ]
  },
  {
   "cell_type": "markdown",
   "metadata": {},
   "source": [
    "#### Data type, isinstance"
   ]
  },
  {
   "cell_type": "code",
   "execution_count": 5,
   "metadata": {},
   "outputs": [
    {
     "name": "stdout",
     "output_type": "stream",
     "text": [
      "<class 'int'> <class 'float'> <class 'str'>\n",
      "First is instance of int: True\n",
      "First is instance of string: False\n"
     ]
    }
   ],
   "source": [
    "first = 20\n",
    "second = 30.0\n",
    "third = 'hello'\n",
    "print(type(first), type(second), type(third))\n",
    "print('First is instance of int: ' +  str(isinstance(first, int)))\n",
    "print('First is instance of string: ' +  str(isinstance(first, str)))"
   ]
  },
  {
   "cell_type": "markdown",
   "metadata": {},
   "source": [
    "#### Unique id of object/ memory address of object\n",
    "constant for -5 to 256"
   ]
  },
  {
   "cell_type": "code",
   "execution_count": 6,
   "metadata": {},
   "outputs": [
    {
     "name": "stdout",
     "output_type": "stream",
     "text": [
      "Id of first:140734637122544\n"
     ]
    }
   ],
   "source": [
    "print('Id of first:' + str(id(first)))"
   ]
  }
 ],
 "metadata": {
  "kernelspec": {
   "display_name": "Python 3",
   "language": "python",
   "name": "python3"
  },
  "language_info": {
   "codemirror_mode": {
    "name": "ipython",
    "version": 3
   },
   "file_extension": ".py",
   "mimetype": "text/x-python",
   "name": "python",
   "nbconvert_exporter": "python",
   "pygments_lexer": "ipython3",
   "version": "3.7.4"
  }
 },
 "nbformat": 4,
 "nbformat_minor": 4
}
