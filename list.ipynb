{
 "cells": [
  {
   "cell_type": "markdown",
   "metadata": {},
   "source": [
    "#### Lists"
   ]
  },
  {
   "cell_type": "code",
   "execution_count": null,
   "metadata": {},
   "outputs": [],
   "source": [
    "# sample list\n",
    "sampleList = []\n",
    "\n",
    "# append string to list\n",
    "sampleList.append(1)\n",
    "\n",
    "# append number to list\n",
    "sampleList.append('sample')\n",
    "\n",
    "# print list\n",
    "print(sampleList)"
   ]
  },
  {
   "cell_type": "code",
   "execution_count": 2,
   "metadata": {},
   "outputs": [
    {
     "name": "stdout",
     "output_type": "stream",
     "text": [
      "['added', 'sample', 1, 2.0, 'newdata']\n"
     ]
    }
   ],
   "source": [
    "sampleList.extend([1, 2.0, 'newdata', 3])\n",
    "sampleList.insert(1, 'added')\n",
    "sampleList.pop()\n",
    "sampleList.remove(1)\n",
    "\n",
    "# print list as string\n",
    "print(sampleList)"
   ]
  },
  {
   "cell_type": "markdown",
   "metadata": {},
   "source": [
    "#### Referencing List"
   ]
  },
  {
   "cell_type": "code",
   "execution_count": 3,
   "metadata": {},
   "outputs": [
    {
     "name": "stdout",
     "output_type": "stream",
     "text": [
      "Sample List:['added', 'sample', 1, 2.0, 'newdata']\n",
      "Reference List:['added', 'sample', 1, 2.0, 'newdata']\n",
      "Id of Sample List:1655282718728\n",
      "Id of RefList:1655282718728\n"
     ]
    }
   ],
   "source": [
    "# refernce list\n",
    "refList = sampleList\n",
    "\n",
    "# print copy list\n",
    "print('Sample List:' +''.join(str(sampleList)), 'Reference List:' + ''.join(str(refList)), sep='\\n')\n",
    "print('Id of Sample List:' + str(id(sampleList)), 'Id of RefList:' + str(id(refList)), sep='\\n')"
   ]
  },
  {
   "cell_type": "markdown",
   "metadata": {},
   "source": [
    "#### Modified copy list"
   ]
  },
  {
   "cell_type": "code",
   "execution_count": 4,
   "metadata": {},
   "outputs": [
    {
     "name": "stdout",
     "output_type": "stream",
     "text": [
      "Sample List:['added', 'changed value', 1, 2.0, 'newdata', 'reference_list', 10, 11]\n",
      "Refernce List:['added', 'changed value', 1, 2.0, 'newdata', 'reference_list']\n"
     ]
    }
   ],
   "source": [
    "# modify copied list\n",
    "refList.append('reference_list')\n",
    "sampleList[1] = 'changed value'\n",
    "sampleList = sampleList + [10, 11]\n",
    "\n",
    "# print copy list\n",
    "print('Sample List:' +''.join(str(sampleList)), 'Refernce List:' + ''.join(str(refList)), sep='\\n')"
   ]
  },
  {
   "cell_type": "markdown",
   "metadata": {},
   "source": [
    "#### Inserting value special case"
   ]
  },
  {
   "cell_type": "code",
   "execution_count": 5,
   "metadata": {},
   "outputs": [
    {
     "name": "stdout",
     "output_type": "stream",
     "text": [
      "8\n",
      "Sample List:['added', 'changed value', 1, 2.0, 'newdata', 'reference_list', 10, 11, 'Special Case']\n",
      "Length of sampleList:9\n"
     ]
    }
   ],
   "source": [
    "# length od list\n",
    "print(len(sampleList))\n",
    "\n",
    "# insert value at 100th location list\n",
    "sampleList.insert(100, 'Special Case')\n",
    "\n",
    "# print copy list\n",
    "print('Sample List:' +''.join(str(sampleList)), 'Length of sampleList:' + str(len(sampleList)), sep='\\n')"
   ]
  },
  {
   "cell_type": "markdown",
   "metadata": {},
   "source": [
    "#### Copy List"
   ]
  },
  {
   "cell_type": "code",
   "execution_count": 6,
   "metadata": {},
   "outputs": [
    {
     "name": "stdout",
     "output_type": "stream",
     "text": [
      "Sample List:['added', 'SampleUpdate', 1, 2.0, 'newdata', 'reference_list', 10, 11, 'Special Case', 'SampleListModified']\n",
      "Reference List:['added', 'changed value', 1, 2.0, 'newdata', 'reference_list']\n",
      "Copy List:[' New Update', 'changed value', 1, 2.0, 'newdata', 'reference_list', 'Copy List']\n",
      "Id of Sample List:1655282705864\n",
      "Id of RefList:1655282718728\n",
      "Id of Copy List:1655283005384\n"
     ]
    }
   ],
   "source": [
    "# refernce list\n",
    "copyList = refList.copy()\n",
    "\n",
    "# modify copy list\n",
    "copyList.append('Copy List')\n",
    "copyList[0] = ' New Update'\n",
    "\n",
    "# modify sampleList\n",
    "sampleList.append('SampleListModified')\n",
    "sampleList[1] = 'SampleUpdate'\n",
    "\n",
    "\n",
    "# print copy list\n",
    "print('Sample List:' +''.join(str(sampleList)), 'Reference List:' + ''.join(str(refList)), 'Copy List:' +''.join(str(copyList)), sep='\\n')\n",
    "print('Id of Sample List:' + str(id(sampleList)), 'Id of RefList:' + str(id(refList)), 'Id of Copy List:' + str(id(copyList)), sep='\\n')"
   ]
  },
  {
   "cell_type": "markdown",
   "metadata": {},
   "source": [
    "#### List comprehension"
   ]
  },
  {
   "cell_type": "code",
   "execution_count": 7,
   "metadata": {},
   "outputs": [
    {
     "name": "stdout",
     "output_type": "stream",
     "text": [
      "[0, 1, 2, 3, 4, 5, 6, 7, 8, 9]\n",
      "[0, 2, 4, 6, 8, 10, 12, 14, 16, 18]\n"
     ]
    }
   ],
   "source": [
    "numList = list(range(10))\n",
    "squareList = [x*2 for x in numList]\n",
    "print(numList, squareList, sep='\\n')"
   ]
  },
  {
   "cell_type": "markdown",
   "metadata": {},
   "source": [
    "#### List Comprehnsion with Generator"
   ]
  },
  {
   "cell_type": "code",
   "execution_count": 14,
   "metadata": {},
   "outputs": [
    {
     "name": "stdout",
     "output_type": "stream",
     "text": [
      "<generator object <genexpr> at 0x00000181668F86C8>\n",
      "[0, 2, 4, 6, 8, 10, 12, 14, 16, 18]\n"
     ]
    }
   ],
   "source": [
    "squareGenerator = (i*2 for i in numList)\n",
    "print(squareGenerator)\n",
    "print(list(squareGenerator))"
   ]
  },
  {
   "cell_type": "code",
   "execution_count": 9,
   "metadata": {},
   "outputs": [
    {
     "name": "stdout",
     "output_type": "stream",
     "text": [
      "[0, 2, 4, 6, 8]\n"
     ]
    }
   ],
   "source": [
    "filterList = [i for i in numList if i%2 == 0]\n",
    "print(filterList)"
   ]
  },
  {
   "cell_type": "markdown",
   "metadata": {},
   "source": [
    "#### List slicing"
   ]
  },
  {
   "cell_type": "code",
   "execution_count": 10,
   "metadata": {},
   "outputs": [
    {
     "name": "stdout",
     "output_type": "stream",
     "text": [
      "[0, 1, 2, 3, 4, 5, 6, 7, 8, 9]\n",
      "[9, 8, 7, 6, 5, 4, 3, 2, 1, 0]\n",
      "[0, 2, 4, 6, 8]\n",
      "[9, 7, 5, 3, 1]\n",
      "[8, 6, 4, 2, 0]\n",
      "[1, 2, 3, 4]\n",
      "[1, 2, 3, 4]\n"
     ]
    }
   ],
   "source": [
    "orgList = list(range(10))\n",
    "\n",
    "print(orgList[::])\n",
    "print(orgList[::-1])\n",
    "print(orgList[::2])\n",
    "print(orgList[::-2])\n",
    "print(orgList[8::-2])\n",
    "print(orgList[1:5])\n",
    "print(orgList[1:-5])"
   ]
  },
  {
   "cell_type": "markdown",
   "metadata": {},
   "source": [
    "#### enumerate"
   ]
  },
  {
   "cell_type": "code",
   "execution_count": 18,
   "metadata": {},
   "outputs": [
    {
     "name": "stdout",
     "output_type": "stream",
     "text": [
      "0 added\n",
      "1 SampleUpdate\n",
      "2 1\n",
      "3 2.0\n",
      "4 newdata\n",
      "5 reference_list\n",
      "6 10\n",
      "7 11\n",
      "8 Special Case\n",
      "9 SampleListModified\n"
     ]
    }
   ],
   "source": [
    "for i, j in enumerate(sampleList):\n",
    "    print(i, j)"
   ]
  }
 ],
 "metadata": {
  "kernelspec": {
   "display_name": "Python 3",
   "language": "python",
   "name": "python3"
  },
  "language_info": {
   "codemirror_mode": {
    "name": "ipython",
    "version": 3
   },
   "file_extension": ".py",
   "mimetype": "text/x-python",
   "name": "python",
   "nbconvert_exporter": "python",
   "pygments_lexer": "ipython3",
   "version": "3.7.4"
  }
 },
 "nbformat": 4,
 "nbformat_minor": 4
}
