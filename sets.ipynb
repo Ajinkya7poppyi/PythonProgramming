{
 "cells": [
  {
   "cell_type": "markdown",
   "metadata": {},
   "source": [
    "#### Sets"
   ]
  },
  {
   "cell_type": "code",
   "execution_count": 1,
   "metadata": {},
   "outputs": [
    {
     "name": "stdout",
     "output_type": "stream",
     "text": [
      "<class 'set'>\n",
      "<class 'dict'>\n",
      "<class 'set'>\n"
     ]
    }
   ],
   "source": [
    "# sample set\n",
    "sampleSet = set()\n",
    "print(type(sampleSet))\n",
    "sampleDict = {}\n",
    "print(type(sampleDict))\n",
    "sampleSet = {1}\n",
    "print(type(sampleSet))"
   ]
  },
  {
   "cell_type": "markdown",
   "metadata": {},
   "source": [
    "#### Mutable Sets"
   ]
  },
  {
   "cell_type": "code",
   "execution_count": 2,
   "metadata": {},
   "outputs": [
    {
     "name": "stdout",
     "output_type": "stream",
     "text": [
      "{1}\n",
      "{1, 2, 'Aj'}\n",
      "2410357564808\n",
      "{1, 2, 3, 'Aj', '1Aj'}\n",
      "2410357564808\n",
      "{1, 2, 3, 'Aj', 5, 'test', '1Aj'}\n",
      "2410357564808\n"
     ]
    }
   ],
   "source": [
    "# add new element\n",
    "sampleSet.add(1)\n",
    "print(sampleSet)\n",
    "# update\n",
    "sampleSet.update([2, 'Aj', 1])\n",
    "print(sampleSet)\n",
    "print(id(sampleSet))\n",
    "# update\n",
    "sampleSet.update({3, '1Aj'})\n",
    "print(sampleSet)\n",
    "print(id(sampleSet))\n",
    "# update iterable items\n",
    "sampleSet.update([5, 2], {'test',})\n",
    "print(sampleSet)\n",
    "print(id(sampleSet))"
   ]
  },
  {
   "cell_type": "code",
   "execution_count": 3,
   "metadata": {},
   "outputs": [
    {
     "name": "stdout",
     "output_type": "stream",
     "text": [
      "0 1\n",
      "1 2\n",
      "2 3\n",
      "3 Aj\n",
      "4 5\n",
      "5 test\n",
      "6 1Aj\n"
     ]
    }
   ],
   "source": [
    "for i, j in enumerate(sampleSet):\n",
    "    print(i, j)"
   ]
  },
  {
   "cell_type": "markdown",
   "metadata": {},
   "source": [
    "#### Remove"
   ]
  },
  {
   "cell_type": "code",
   "execution_count": 4,
   "metadata": {},
   "outputs": [
    {
     "name": "stdout",
     "output_type": "stream",
     "text": [
      "{1, 2, 3, 'Aj', 5, 'test', '1Aj'}\n",
      "{1, 3, 'Aj', 5, 'test', '1Aj'}\n",
      "{1, 'Aj', 5, 'test', '1Aj'}\n",
      "{'Aj', 5, 'test', '1Aj'}\n",
      "set()\n"
     ]
    }
   ],
   "source": [
    "sampleSet.discard(10)\n",
    "print(sampleSet)\n",
    "\n",
    "sampleSet.discard(2)\n",
    "print(sampleSet)\n",
    "\n",
    "sampleSet.remove(3)\n",
    "print(sampleSet)\n",
    "\n",
    "sampleSet.pop()\n",
    "print(sampleSet)\n",
    "\n",
    "sampleSet.clear()\n",
    "print(sampleSet)"
   ]
  },
  {
   "cell_type": "markdown",
   "metadata": {},
   "source": [
    "#### Set Operations"
   ]
  },
  {
   "cell_type": "code",
   "execution_count": 5,
   "metadata": {},
   "outputs": [
    {
     "name": "stdout",
     "output_type": "stream",
     "text": [
      "A:{1, 3, 5, 6}\n",
      "B:{1, 'Ajinya', 3, 4}\n",
      "A|B:{1, 3, 4, 5, 6, 'Ajinya'}\n",
      "A|B:{1, 3, 4, 5, 6, 'Ajinya'}\n",
      "A|B:{1, 3}\n",
      "A|B:{1, 3}\n",
      "A|B:{5, 6}\n",
      "A|B:{5, 6}\n",
      "A|B:{'Ajinya', 4}\n",
      "A|B:{'Ajinya', 4}\n",
      "A|B:{'Ajinya', 4, 5, 6}\n",
      "A|B:{'Ajinya', 4, 5, 6}\n"
     ]
    }
   ],
   "source": [
    "A = {1, 3, 5, 6}\n",
    "B = {'Ajinya', 1, 3, 4}\n",
    "\n",
    "print('A:' + str(A),'B:' + str(B), sep='\\n')\n",
    "print('A|B:' + str(A | B))\n",
    "print('A|B:' + str(A.union(B)))\n",
    "print('A|B:' + str(A & B))\n",
    "print('A|B:' + str(A.intersection(B)))\n",
    "print('A|B:' + str(A - B))\n",
    "print('A|B:' + str(A.difference(B)))\n",
    "print('A|B:' + str(B - A))\n",
    "print('A|B:' + str(B.difference(A)))\n",
    "print('A|B:' + str(A ^ B))\n",
    "print('A|B:' + str(A.symmetric_difference(B)))"
   ]
  }
 ],
 "metadata": {
  "kernelspec": {
   "display_name": "Python 3",
   "language": "python",
   "name": "python3"
  },
  "language_info": {
   "codemirror_mode": {
    "name": "ipython",
    "version": 3
   },
   "file_extension": ".py",
   "mimetype": "text/x-python",
   "name": "python",
   "nbconvert_exporter": "python",
   "pygments_lexer": "ipython3",
   "version": "3.7.4"
  }
 },
 "nbformat": 4,
 "nbformat_minor": 4
}
