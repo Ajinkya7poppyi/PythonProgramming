{
 "cells": [
  {
   "cell_type": "markdown",
   "metadata": {},
   "source": [
    "##### Array in Python "
   ]
  },
  {
   "cell_type": "markdown",
   "metadata": {},
   "source": [
    "| Type code   |      C Type      |  Minimum size in bytes |\n",
    "|----------|:-------------:|------:|\n",
    "| 'b' | signed integer | 1 |\n",
    "| 'B' | unsigned integer | 1 |\n",
    "| 'u' | unicode character | 2 |\n",
    "| 'h' | signed integer | 2 |\n",
    "| 'H' | unsigned integer | 2 |\n",
    "| 'i' | signed integer | 2 |\n",
    "| 'I' | unsigned integer | 2 |\n",
    "| 'l' | signed integer | 4 |\n",
    "| 'L' | unsigned integer | 4 |\n",
    "| 'q' | signed integer | 8 |\n",
    "| 'Q' | unsigned integer | 8 |\n",
    "| 'f' | floating point | 4 |\n",
    "| 'd' | floating point | 8 |"
   ]
  },
  {
   "cell_type": "code",
   "execution_count": 1,
   "metadata": {},
   "outputs": [
    {
     "name": "stdout",
     "output_type": "stream",
     "text": [
      "Integer Array alues are:\n",
      "12345\n",
      "Array after Insertion:\n",
      "1823452\n",
      "Array after removal:\n",
      "83452\n",
      "Index of value:4\n",
      "Count of value:1\n",
      "Array after reversal:\n",
      "83452"
     ]
    },
    {
     "data": {
      "text/plain": [
       "[None, None, None, None, None]"
      ]
     },
     "execution_count": 1,
     "metadata": {},
     "output_type": "execute_result"
    }
   ],
   "source": [
    "import array\n",
    "\n",
    "# initialize array\n",
    "arrInt = array.array('i', [1, 2, 3, 4, 5])\n",
    "\n",
    "# print all elements in array\n",
    "print(\"Integer Array alues are:\")\n",
    "for i in range(len(arrInt)):\n",
    "  print(arrInt[i], end='')\n",
    "print('\\r')\n",
    "\n",
    "# append value to array\n",
    "arrInt.append(2)\n",
    "\n",
    "# insert value at index\n",
    "arrInt.insert(1, 8)\n",
    "\n",
    "# print all elements in array\n",
    "print(\"Array after Insertion:\")\n",
    "# print all elements in array\n",
    "[print(arrInt[i], end='') for i in range(len(arrInt))]\n",
    "print('\\r')\n",
    "\n",
    "\n",
    "# remove elements in array\n",
    "arrInt.pop(0)\n",
    "\n",
    "# remove 1st occurance of ValueError\n",
    "arrInt.remove(2)\n",
    "\n",
    "print(\"Array after removal:\")\n",
    "# print all elements in array\n",
    "[print(arrInt[i], end='') for i in range(len(arrInt))]\n",
    "\n",
    "print('\\r')\n",
    "# print value at index\n",
    "print(\"Index of value:\" + str(arrInt.index(2)))\n",
    "# print occurance of number in array\n",
    "print(\"Count of value:\" + str(arrInt.count(8)))\n",
    "# reverse array\n",
    "arrInt.reverse\n",
    "\n",
    "print(\"Array after reversal:\")\n",
    "# print all elements\n",
    "[print(arrInt[i], end='') for i in range(len(arrInt))]"
   ]
  }
 ],
 "metadata": {
  "kernelspec": {
   "display_name": "Python 3",
   "language": "python",
   "name": "python3"
  },
  "language_info": {
   "codemirror_mode": {
    "name": "ipython",
    "version": 3
   },
   "file_extension": ".py",
   "mimetype": "text/x-python",
   "name": "python",
   "nbconvert_exporter": "python",
   "pygments_lexer": "ipython3",
   "version": "3.7.4"
  }
 },
 "nbformat": 4,
 "nbformat_minor": 4
}
